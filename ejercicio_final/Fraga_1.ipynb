{
  "cells": [
    {
      "cell_type": "markdown",
      "metadata": {
        "id": "gb0ODq0xk9d6"
      },
      "source": [
        "## <u>EJERCICIO 1</u>\n",
        "### **CLASIFICACION CON Red Densa**\n",
        "\n",
        "### PASO 0 - Importo las librerias y carga del dataset\n",
        "\n",
        "https://scikit-learn.org/stable/modules/generated/sklearn.datasets.fetch_lfw_people.html"
      ]
    },
    {
      "cell_type": "code",
      "execution_count": null,
      "metadata": {
        "id": "35Hvk9krk9d7"
      },
      "outputs": [],
      "source": [
        "import numpy as np\n",
        "import matplotlib.pyplot as plt\n",
        "import time\n",
        "import tensorflow as tf\n",
        "\n",
        "from sklearn.datasets import fetch_lfw_people\n",
        "from sklearn.model_selection import train_test_split\n",
        "from sklearn.metrics import confusion_matrix\n",
        "from sklearn.decomposition import PCA\n",
        "\n",
        "from tensorflow.keras.models import Model\n",
        "from tensorflow.keras.layers import Input, Dense, Dropout\n",
        "from tensorflow.keras.metrics import MSE\n",
        "from tensorflow.keras.optimizers import Adadelta, Adam\n",
        "from tensorflow.keras.losses import categorical_crossentropy\n",
        "from tensorflow.keras.utils import to_categorical"
      ]
    },
    {
      "cell_type": "code",
      "execution_count": null,
      "metadata": {
        "id": "u5HoVrGXuM2h"
      },
      "outputs": [],
      "source": [
        "# Utilizaremos solo imagenes de 7 personas con mas de 70 imagenes disponibles.\n",
        "lfw_people = fetch_lfw_people(min_faces_per_person=70, resize=1, color=False, download_if_missing=True)\n",
        "\n",
        "# Inspeccion de los tamaños\n",
        "n_samples, h, w = lfw_people.images.shape\n",
        "\n",
        "# Datos sin divir en subconjuntos\n",
        "X = lfw_people.images\n",
        "\n",
        "# Etiquetas y clases\n",
        "y = lfw_people.target\n",
        "target_names = lfw_people.target_names\n",
        "n_classes = target_names.shape[0]\n",
        "\n",
        "print(\"Total dataset size:\")\n",
        "print(\"h, w: (%d, %d)\" % (h, w))\n",
        "print(\"n_samples: %d\" % n_samples)\n",
        "print(\"n_classes: %d\" % n_classes)"
      ]
    },
    {
      "cell_type": "code",
      "execution_count": null,
      "metadata": {
        "id": "ctfY5v21rWDt"
      },
      "outputs": [],
      "source": [
        "print(target_names)\n",
        "print(X.shape)\n",
        "print(y.shape)\n",
        "print(y[0])\n",
        "print(X[0])"
      ]
    },
    {
      "cell_type": "code",
      "execution_count": null,
      "metadata": {
        "id": "DM6HAy1Qk9d9"
      },
      "outputs": [],
      "source": [
        "#Funciones para graficar\n",
        "def plot_gallery(images, number, titles, h, w, n_row=3, n_col=4):\n",
        "    \"\"\"Helper function to plot a gallery of portraits\"\"\"\n",
        "    plt.figure(figsize=(1.8 * n_col, 2.4 * n_row))\n",
        "    plt.subplots_adjust(bottom=0, left=0.01, right=0.99, top=0.90, hspace=0.35)\n",
        "    for i in range(number):\n",
        "        plt.subplot(n_row, n_col, i + 1)\n",
        "        plt.imshow(images[i], cmap=plt.cm.gray)\n",
        "        plt.title(titles[i], size=12)\n",
        "        plt.xticks(())\n",
        "        plt.yticks(())\n",
        "\n",
        "def title(y, target_names):\n",
        "    return \"%s\" % (target_names[y])"
      ]
    },
    {
      "cell_type": "code",
      "execution_count": null,
      "metadata": {
        "id": "VGdN9CMXk9d9"
      },
      "outputs": [],
      "source": [
        "titles = [title(y[i], target_names) for i in range(20)]\n",
        "plot_gallery(X, 12 , titles, h, w)"
      ]
    },
    {
      "cell_type": "code",
      "execution_count": null,
      "metadata": {
        "id": "c_sc-yBTk9d9",
        "scrolled": true
      },
      "outputs": [],
      "source": [
        "print(np.max(X))\n",
        "print(np.min(X))"
      ]
    },
    {
      "cell_type": "markdown",
      "metadata": {
        "id": "q45FgTIZzhvK"
      },
      "source": [
        "### PASO 1 - Divido las data en entrenamiento y test"
      ]
    },
    {
      "cell_type": "code",
      "execution_count": null,
      "metadata": {
        "id": "6SZd00OQzhvK"
      },
      "outputs": [],
      "source": [
        "# Division de los datos normalizados\n",
        "\n",
        "porc_test = 0.25\n",
        "seed = 8 #8\n",
        "\n",
        "x_entrenar, x_test, y_entrenar, y_test = train_test_split(X, y, test_size=porc_test, random_state=seed, shuffle=True)\n",
        "\n",
        "print(f\"Entrenamiento: {x_entrenar.shape}\")\n",
        "print(f\"Testeo: {x_test.shape}\")"
      ]
    },
    {
      "cell_type": "markdown",
      "metadata": {
        "id": "UDGakpc_zhvK"
      },
      "source": [
        "### PASO 2 - Parametros para entrenamiento y  preparacion de los datos"
      ]
    },
    {
      "cell_type": "code",
      "execution_count": null,
      "metadata": {
        "id": "HsV4rILGzhvL"
      },
      "outputs": [],
      "source": [
        "# Estipulo los parametros para el entrenamiento de la red\n",
        "lr = 0.001 #0.0015\n",
        "epochs = 800\n",
        "batch_size = 32 #32\n",
        "np.random.seed(14) #9 14 42\n",
        "\n",
        "# Preparacion de la data - Salida transformada a one-hot\n",
        "y_entrenar = to_categorical(y_entrenar, n_classes)\n",
        "y_test = to_categorical(y_test, n_classes)\n",
        "\n",
        "# Convertir el vector de entrada a una dimension\n",
        "x_entrenar.shape = (x_entrenar.shape[0], np.prod(x_entrenar.shape[1:]))\n",
        "x_test.shape = (x_test.shape[0], np.prod(x_test.shape[1:]))"
      ]
    },
    {
      "cell_type": "code",
      "execution_count": null,
      "metadata": {
        "id": "V_DHmljBzhvL"
      },
      "outputs": [],
      "source": [
        "print(x_entrenar.shape)\n",
        "print(x_test.shape)"
      ]
    },
    {
      "cell_type": "markdown",
      "metadata": {
        "id": "2_-2I5c0zhvL"
      },
      "source": [
        "### PASO 3 - Creacion del modelo"
      ]
    },
    {
      "cell_type": "code",
      "execution_count": null,
      "metadata": {
        "id": "V-Y3qjLKzhvL"
      },
      "outputs": [],
      "source": [
        "# Estructura de la red\n",
        "input_layer = Input(shape=x_entrenar.shape[1:])\n",
        "dense_1 = Dense(500, activation=\"relu\") (input_layer)\n",
        "dense_2 = Dense(500, activation=\"relu\") (dense_1)\n",
        "dropout_1 = Dropout(0.1) (dense_2)\n",
        "dense_4 = Dense(300, activation=\"relu\") (dropout_1)\n",
        "dense_5 = Dense(300, activation=\"relu\") (dense_4)\n",
        "dropout_2 = Dropout(0.1) (dense_5)\n",
        "dense_7 = Dense(100, activation=\"relu\") (dropout_2)\n",
        "output_layer = Dense(n_classes, activation='softmax') (dense_7)\n",
        "\n",
        "# Instancia del modelo\n",
        "modelo = Model(input_layer, output_layer)"
      ]
    },
    {
      "cell_type": "code",
      "execution_count": null,
      "metadata": {
        "id": "RTrE8gqezhvL"
      },
      "outputs": [],
      "source": [
        "optimizador = Adadelta(learning_rate=lr, rho=0.95)\n",
        "modelo.compile(optimizer=optimizador, loss=\"categorical_crossentropy\", metrics=[\"acc\", \"mse\"])\n",
        "modelo.summary()"
      ]
    },
    {
      "cell_type": "markdown",
      "metadata": {
        "id": "KJnkeLWczhvL"
      },
      "source": [
        "### PASO 4 - Entrenamiento del modelo"
      ]
    },
    {
      "cell_type": "code",
      "execution_count": null,
      "metadata": {
        "id": "-Gc8HStszhvL"
      },
      "outputs": [],
      "source": [
        "inicio = time.time()\n",
        "historia = modelo.fit(x_entrenar, y_entrenar, epochs=epochs, batch_size=batch_size, validation_data=(x_test, y_test), shuffle=True, verbose=1)\n",
        "final = time.time()\n",
        "print('\\nTiempo que demoro el entrenamiento: {:.3f} segundos'.format(final-inicio))"
      ]
    },
    {
      "cell_type": "markdown",
      "metadata": {
        "id": "EMj8RTi7zhvL"
      },
      "source": [
        "### PASO 5 - Evaluacion del entrenamiento del modelo"
      ]
    },
    {
      "cell_type": "code",
      "execution_count": null,
      "metadata": {
        "id": "z5nCsd3azhvL"
      },
      "outputs": [],
      "source": [
        "historia.history.keys()"
      ]
    },
    {
      "cell_type": "code",
      "execution_count": null,
      "metadata": {
        "id": "KMfWByEfzhvM"
      },
      "outputs": [],
      "source": [
        "def grafico_comprobacion(train, test, minimo, maximo):\n",
        "    plt.plot(historia.history[train], linewidth=3, label=\"Entrenamiento\")\n",
        "\tplt.plot(historia.history[test], linewidth=3, label=\"Testeo\")\n",
        "\tplt.xlabel('Epochs')\n",
        "\tplt.ylabel('MSE')\n",
        "\tplt.axis([0, epochs, minimo, maximo])\n",
        "\tplt.legend(loc=\"best\")\n",
        "\n",
        "f = plt.figure(figsize=(15,5))\n",
        "\n",
        "plt.subplot(1,3,1)\n",
        "grafico_comprobacion(\"mse\", \"val_mse\", 0, 0.15)\n",
        "\n",
        "plt.subplot(1,3,2)\n",
        "grafico_comprobacion(\"acc\", \"val_acc\", 0.3, 1)\n",
        "\n",
        "plt.subplot(1,3,3)\n",
        "grafico_comprobacion(\"loss\", \"val_loss\", 0.2, 2)\n",
        "\n",
        "plt.show()"
      ]
    },
    {
      "cell_type": "code",
      "execution_count": null,
      "metadata": {},
      "outputs": [],
      "source": [
        "acc_test = modelo.evaluate(x_test, y_test,verbose=1)\n",
        "acc_entrenamiento = modelo.evaluate(x_entrenar, y_entrenar,verbose=1)\n",
        "\n",
        "print(f\"Accuracy sobre conjunto de entrenamiento: {acc_entrenamiento[1]}\")\n",
        "print(f\"Accuracy sobre conjunto de validacion:{acc_test[1]}\")"
      ]
    },
    {
      "cell_type": "markdown",
      "metadata": {
        "id": "U0cXbP1JzhvM"
      },
      "source": [
        "### PASO 6 - Predicciones y evaluacion con Matriz de Confusion"
      ]
    },
    {
      "cell_type": "code",
      "execution_count": null,
      "metadata": {
        "id": "2qZcnqpXzhvM"
      },
      "outputs": [],
      "source": [
        "# Predicciones con la data de testeo\n",
        "y_prediccion = modelo.predict(x_test, verbose=1)\n",
        "\n",
        "# Matriz de confusion y grafica\n",
        "y_test_cm = np.argmax(y_test, axis=1)\n",
        "y_prediccion_cm = np.argmax(y_prediccion, axis=1)\n",
        "confm = confusion_matrix(y_test_cm, y_prediccion_cm)\n",
        "print(f\"\\nMatriz de confusion\")\n",
        "print(confm)\n",
        "\n",
        "f = plt.figure(figsize=(10,10))\n",
        "plt.imshow(confm, cmap=\"YlGn\")\n",
        "plt.xticks(np.arange(7), target_names,rotation=90)\n",
        "plt.yticks(np.arange(7), target_names,rotation=0)\n",
        "plt.colorbar()\n",
        "plt.show()\n"
      ]
    },
    {
      "cell_type": "markdown",
      "metadata": {
        "id": "o7R4SwELzhvM"
      },
      "source": [
        "### PASO 7 - Otra verificacion\n",
        "\n"
      ]
    },
    {
      "cell_type": "code",
      "execution_count": null,
      "metadata": {
        "id": "kn9lgEqr4ejH"
      },
      "outputs": [],
      "source": [
        "images = x_test[0]\n",
        "labels = target_names[y_prediccion_cm[0]]\n",
        "\n",
        "f = plt.figure(figsize=(2,2))\n",
        "plt.imshow(images, cmap='gray')\n",
        "plt.title(labels)\n",
        "plt.axis('off')\n",
        "plt.tight_layout()\n",
        "plt.show()"
      ]
    }
  ],
  "metadata": {
    "accelerator": "GPU",
    "colab": {
      "gpuType": "T4",
      "machine_shape": "hm",
      "provenance": [],
      "toc_visible": true
    },
    "kernelspec": {
      "display_name": ".venvML",
      "language": "python",
      "name": "python3"
    },
    "language_info": {
      "codemirror_mode": {
        "name": "ipython",
        "version": 3
      },
      "file_extension": ".py",
      "mimetype": "text/x-python",
      "name": "python",
      "nbconvert_exporter": "python",
      "pygments_lexer": "ipython3",
      "version": "3.11.9"
    }
  },
  "nbformat": 4,
  "nbformat_minor": 0
}
