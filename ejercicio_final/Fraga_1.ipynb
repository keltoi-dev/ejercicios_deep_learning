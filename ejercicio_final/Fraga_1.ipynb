{
  "cells": [
    {
      "cell_type": "markdown",
      "metadata": {
        "id": "gb0ODq0xk9d6"
      },
      "source": [
        "## <u>EJERCICIO 1</u>\n",
        "### **CLASIFICACION CON Red Densa**\n",
        "\n",
        "### PASO 0 - Importo las librerias y carga del dataset\n",
        "\n",
        "https://scikit-learn.org/stable/modules/generated/sklearn.datasets.fetch_lfw_people.html"
      ]
    },
    {
      "cell_type": "code",
      "execution_count": null,
      "metadata": {
        "id": "35Hvk9krk9d7"
      },
      "outputs": [],
      "source": [
        "import numpy as np\n",
        "import matplotlib.pyplot as plt\n",
        "import time\n",
        "import tensorflow as tf\n",
        "\n",
        "from sklearn.datasets import fetch_lfw_people\n",
        "from sklearn.model_selection import train_test_split\n",
        "from sklearn.metrics import confusion_matrix\n",
        "from sklearn.decomposition import PCA\n",
        "\n",
        "from tensorflow.keras.models import Model\n",
        "from tensorflow.keras.layers import Input, Dense, Dropout\n",
        "from tensorflow.keras.metrics import MSE\n",
        "from tensorflow.keras.optimizers import Adadelta, Adam\n",
        "from tensorflow.keras.losses import categorical_crossentropy\n",
        "from tensorflow.keras.utils import to_categorical"
      ]
    },
    {
      "cell_type": "code",
      "execution_count": null,
      "metadata": {
        "id": "u5HoVrGXuM2h"
      },
      "outputs": [],
      "source": [
        "# Utilizaremos solo imagenes de 7 personas con mas de 70 imagenes disponibles.\n",
        "lfw_people = fetch_lfw_people(min_faces_per_person=70, resize=1, color=False, download_if_missing=True)\n",
        "\n",
        "# Inspeccion de los tamaños\n",
        "n_samples, h, w = lfw_people.images.shape\n",
        "\n",
        "# Datos sin divir en subconjuntos\n",
        "X = lfw_people.images\n",
        "\n",
        "# Etiquetas y clases\n",
        "y = lfw_people.target\n",
        "target_names = lfw_people.target_names\n",
        "n_classes = target_names.shape[0]\n",
        "\n",
        "print(\"Total dataset size:\")\n",
        "print(\"h, w: (%d, %d)\" % (h, w))\n",
        "print(\"n_samples: %d\" % n_samples)\n",
        "print(\"n_classes: %d\" % n_classes)"
      ]
    },
    {
      "cell_type": "code",
      "execution_count": null,
      "metadata": {
        "id": "ctfY5v21rWDt"
      },
      "outputs": [],
      "source": [
        "print(target_names)\n",
        "print(X.shape)\n",
        "print(y.shape)\n",
        "print(y[0])\n",
        "print(X[0])"
      ]
    },
    {
      "cell_type": "code",
      "execution_count": null,
      "metadata": {
        "id": "DM6HAy1Qk9d9"
      },
      "outputs": [],
      "source": [
        "#Funciones para graficar\n",
        "def plot_gallery(images, number, titles, h, w, n_row=3, n_col=4):\n",
        "    \"\"\"Helper function to plot a gallery of portraits\"\"\"\n",
        "    plt.figure(figsize=(1.8 * n_col, 2.4 * n_row))\n",
        "    plt.subplots_adjust(bottom=0, left=0.01, right=0.99, top=0.90, hspace=0.35)\n",
        "    for i in range(number):\n",
        "        plt.subplot(n_row, n_col, i + 1)\n",
        "        plt.imshow(images[i], cmap=plt.cm.gray)\n",
        "        plt.title(titles[i], size=12)\n",
        "        plt.xticks(())\n",
        "        plt.yticks(())\n",
        "\n",
        "def title(y, target_names):\n",
        "    return \"%s\" % (target_names[y])"
      ]
    },
    {
      "cell_type": "code",
      "execution_count": null,
      "metadata": {
        "id": "VGdN9CMXk9d9"
      },
      "outputs": [],
      "source": [
        "titles = [title(y[i], target_names) for i in range(20)]\n",
        "plot_gallery(X, 12 , titles, h, w)"
      ]
    },
    {
      "cell_type": "code",
      "execution_count": null,
      "metadata": {
        "id": "c_sc-yBTk9d9",
        "scrolled": true
      },
      "outputs": [],
      "source": [
        "print(np.max(X))\n",
        "print(np.min(X))"
      ]
    },
    {
      "cell_type": "markdown",
      "metadata": {
        "id": "q45FgTIZzhvK"
      },
      "source": [
        "### PASO 1 - Divido las data en entrenamiento y test"
      ]
    },
    {
      "cell_type": "code",
      "execution_count": null,
      "metadata": {
        "id": "6SZd00OQzhvK"
      },
      "outputs": [],
      "source": [
        "# Division de los datos normalizados\n",
        "\n",
        "porc_test = 0.25\n",
        "seed = 8 #8\n",
        "\n",
        "x_entrenar, x_test, y_entrenar, y_test = train_test_split(X, y, test_size=porc_test, random_state=seed, shuffle=True)\n",
        "\n",
        "print(f\"Entrenamiento: {x_entrenar.shape}\")\n",
        "print(f\"Testeo: {x_test.shape}\")"
      ]
    },
    {
      "cell_type": "markdown",
      "metadata": {
        "id": "UDGakpc_zhvK"
      },
      "source": [
        "### PASO 2 - Parametros para entrenamiento y  preparacion de los datos"
      ]
    },
    {
      "cell_type": "code",
      "execution_count": null,
      "metadata": {
        "id": "HsV4rILGzhvL"
      },
      "outputs": [],
      "source": [
        "# Estipulo los parametros para el entrenamiento de la red\n",
        "lr = 0.002\n",
        "epochs = 400\n",
        "batch_size = 32\n",
        "np.random.seed(42) #9 14 42\n",
        "\n",
        "# Preparacion de la data - Salida transformada a one-hot\n",
        "y_entrenar = to_categorical(y_entrenar, n_classes)\n",
        "y_test = to_categorical(y_test, n_classes)\n",
        "\n",
        "# Convertir el vector de entrada a una dimension\n",
        "x_entrenar.shape = (x_entrenar.shape[0], np.prod(x_entrenar.shape[1:]))\n",
        "x_test.shape = (x_test.shape[0], np.prod(x_test.shape[1:]))"
      ]
    },
    {
      "cell_type": "code",
      "execution_count": null,
      "metadata": {
        "id": "V_DHmljBzhvL"
      },
      "outputs": [],
      "source": [
        "print(x_entrenar.shape)\n",
        "print(x_test.shape)"
      ]
    },
    {
      "cell_type": "markdown",
      "metadata": {
        "id": "2_-2I5c0zhvL"
      },
      "source": [
        "### PASO 3 - Creacion del modelo"
      ]
    },
    {
      "cell_type": "code",
      "execution_count": null,
      "metadata": {
        "id": "V-Y3qjLKzhvL"
      },
      "outputs": [],
      "source": [
        "# Estructura de la red\n",
        "input_layer = Input(shape=x_entrenar.shape[1:])\n",
        "dense_1 = Dense(500, activation=\"relu\") (input_layer)\n",
        "dense_2 = Dense(500, activation=\"relu\") (dense_1)\n",
        "# dropout_1 = Dropout(0.2) (dense_2)\n",
        "# dense_4 = Dense(200, activation=\"relu\") (dropout_1)\n",
        "# dropout_2 = Dropout(0.1) (dense_4)\n",
        "dense_7 = Dense(100, activation=\"relu\") (dense_2)\n",
        "output_layer = Dense(n_classes, activation='softmax') (dense_7)\n",
        "\n",
        "# Instancia del modelo\n",
        "modelo = Model(input_layer, output_layer)"
      ]
    },
    {
      "cell_type": "code",
      "execution_count": null,
      "metadata": {
        "id": "RTrE8gqezhvL"
      },
      "outputs": [],
      "source": [
        "optimizador = Adadelta(learning_rate=lr)\n",
        "modelo.compile(optimizer=optimizador, loss=\"categorical_crossentropy\", metrics=[\"acc\", \"mse\"])\n",
        "modelo.summary()"
      ]
    },
    {
      "cell_type": "markdown",
      "metadata": {
        "id": "KJnkeLWczhvL"
      },
      "source": [
        "### PASO 4 - Entrenamiento del modelo"
      ]
    },
    {
      "cell_type": "code",
      "execution_count": null,
      "metadata": {
        "id": "-Gc8HStszhvL",
        "outputId": "a451cb33-e239-45eb-81bc-476d4dac85e5",
        "colab": {
          "base_uri": "https://localhost:8080/"
        }
      },
      "outputs": [
        {
          "output_type": "stream",
          "name": "stdout",
          "text": [
            "Epoch 1/400\n",
            "\u001b[1m31/31\u001b[0m \u001b[32m━━━━━━━━━━━━━━━━━━━━\u001b[0m\u001b[37m\u001b[0m \u001b[1m5s\u001b[0m 112ms/step - acc: 0.2293 - loss: 1.8813 - mse: 0.1194 - val_acc: 0.4441 - val_loss: 1.6506 - val_mse: 0.1061\n",
            "Epoch 2/400\n",
            "\u001b[1m31/31\u001b[0m \u001b[32m━━━━━━━━━━━━━━━━━━━━\u001b[0m\u001b[37m\u001b[0m \u001b[1m6s\u001b[0m 132ms/step - acc: 0.4123 - loss: 1.6898 - mse: 0.1087 - val_acc: 0.4441 - val_loss: 1.6200 - val_mse: 0.1048\n",
            "Epoch 3/400\n",
            "\u001b[1m31/31\u001b[0m \u001b[32m━━━━━━━━━━━━━━━━━━━━\u001b[0m\u001b[37m\u001b[0m \u001b[1m3s\u001b[0m 102ms/step - acc: 0.4194 - loss: 1.6407 - mse: 0.1062 - val_acc: 0.4441 - val_loss: 1.6048 - val_mse: 0.1042\n",
            "Epoch 4/400\n",
            "\u001b[1m31/31\u001b[0m \u001b[32m━━━━━━━━━━━━━━━━━━━━\u001b[0m\u001b[37m\u001b[0m \u001b[1m5s\u001b[0m 99ms/step - acc: 0.4052 - loss: 1.6462 - mse: 0.1069 - val_acc: 0.4441 - val_loss: 1.5840 - val_mse: 0.1027\n",
            "Epoch 5/400\n",
            "\u001b[1m31/31\u001b[0m \u001b[32m━━━━━━━━━━━━━━━━━━━━\u001b[0m\u001b[37m\u001b[0m \u001b[1m4s\u001b[0m 136ms/step - acc: 0.4032 - loss: 1.6430 - mse: 0.1063 - val_acc: 0.4441 - val_loss: 1.5830 - val_mse: 0.1029\n",
            "Epoch 6/400\n",
            "\u001b[1m31/31\u001b[0m \u001b[32m━━━━━━━━━━━━━━━━━━━━\u001b[0m\u001b[37m\u001b[0m \u001b[1m4s\u001b[0m 102ms/step - acc: 0.4087 - loss: 1.6198 - mse: 0.1053 - val_acc: 0.4472 - val_loss: 1.5700 - val_mse: 0.1020\n",
            "Epoch 7/400\n",
            "\u001b[1m31/31\u001b[0m \u001b[32m━━━━━━━━━━━━━━━━━━━━\u001b[0m\u001b[37m\u001b[0m \u001b[1m5s\u001b[0m 101ms/step - acc: 0.3955 - loss: 1.6140 - mse: 0.1056 - val_acc: 0.4441 - val_loss: 1.5512 - val_mse: 0.1009\n",
            "Epoch 8/400\n",
            "\u001b[1m31/31\u001b[0m \u001b[32m━━━━━━━━━━━━━━━━━━━━\u001b[0m\u001b[37m\u001b[0m \u001b[1m6s\u001b[0m 131ms/step - acc: 0.3970 - loss: 1.6223 - mse: 0.1055 - val_acc: 0.4441 - val_loss: 1.5406 - val_mse: 0.1002\n",
            "Epoch 9/400\n",
            "\u001b[1m31/31\u001b[0m \u001b[32m━━━━━━━━━━━━━━━━━━━━\u001b[0m\u001b[37m\u001b[0m \u001b[1m4s\u001b[0m 103ms/step - acc: 0.4039 - loss: 1.6083 - mse: 0.1046 - val_acc: 0.4441 - val_loss: 1.5314 - val_mse: 0.0998\n",
            "Epoch 10/400\n",
            "\u001b[1m31/31\u001b[0m \u001b[32m━━━━━━━━━━━━━━━━━━━━\u001b[0m\u001b[37m\u001b[0m \u001b[1m6s\u001b[0m 123ms/step - acc: 0.3968 - loss: 1.6069 - mse: 0.1045 - val_acc: 0.4534 - val_loss: 1.5199 - val_mse: 0.0990\n",
            "Epoch 11/400\n",
            "\u001b[1m31/31\u001b[0m \u001b[32m━━━━━━━━━━━━━━━━━━━━\u001b[0m\u001b[37m\u001b[0m \u001b[1m5s\u001b[0m 114ms/step - acc: 0.4158 - loss: 1.5715 - mse: 0.1027 - val_acc: 0.4534 - val_loss: 1.5167 - val_mse: 0.0989\n",
            "Epoch 12/400\n",
            "\u001b[1m31/31\u001b[0m \u001b[32m━━━━━━━━━━━━━━━━━━━━\u001b[0m\u001b[37m\u001b[0m \u001b[1m5s\u001b[0m 100ms/step - acc: 0.4356 - loss: 1.5537 - mse: 0.1012 - val_acc: 0.4596 - val_loss: 1.5071 - val_mse: 0.0983\n",
            "Epoch 13/400\n",
            "\u001b[1m31/31\u001b[0m \u001b[32m━━━━━━━━━━━━━━━━━━━━\u001b[0m\u001b[37m\u001b[0m \u001b[1m6s\u001b[0m 127ms/step - acc: 0.4482 - loss: 1.5210 - mse: 0.0994 - val_acc: 0.4627 - val_loss: 1.5092 - val_mse: 0.0985\n",
            "Epoch 14/400\n",
            "\u001b[1m31/31\u001b[0m \u001b[32m━━━━━━━━━━━━━━━━━━━━\u001b[0m\u001b[37m\u001b[0m \u001b[1m4s\u001b[0m 114ms/step - acc: 0.4281 - loss: 1.5468 - mse: 0.1014 - val_acc: 0.4596 - val_loss: 1.4825 - val_mse: 0.0966\n",
            "Epoch 15/400\n",
            "\u001b[1m31/31\u001b[0m \u001b[32m━━━━━━━━━━━━━━━━━━━━\u001b[0m\u001b[37m\u001b[0m \u001b[1m5s\u001b[0m 106ms/step - acc: 0.4334 - loss: 1.5391 - mse: 0.1004 - val_acc: 0.4627 - val_loss: 1.4775 - val_mse: 0.0965\n",
            "Epoch 16/400\n",
            "\u001b[1m31/31\u001b[0m \u001b[32m━━━━━━━━━━━━━━━━━━━━\u001b[0m\u001b[37m\u001b[0m \u001b[1m3s\u001b[0m 109ms/step - acc: 0.4323 - loss: 1.5259 - mse: 0.1001 - val_acc: 0.5031 - val_loss: 1.4887 - val_mse: 0.0973\n",
            "Epoch 17/400\n",
            "\u001b[1m31/31\u001b[0m \u001b[32m━━━━━━━━━━━━━━━━━━━━\u001b[0m\u001b[37m\u001b[0m \u001b[1m5s\u001b[0m 106ms/step - acc: 0.4597 - loss: 1.5251 - mse: 0.0999 - val_acc: 0.5031 - val_loss: 1.4715 - val_mse: 0.0961\n",
            "Epoch 18/400\n",
            "\u001b[1m31/31\u001b[0m \u001b[32m━━━━━━━━━━━━━━━━━━━━\u001b[0m\u001b[37m\u001b[0m \u001b[1m5s\u001b[0m 103ms/step - acc: 0.4421 - loss: 1.5329 - mse: 0.1001 - val_acc: 0.4752 - val_loss: 1.4491 - val_mse: 0.0946\n",
            "Epoch 19/400\n",
            "\u001b[1m31/31\u001b[0m \u001b[32m━━━━━━━━━━━━━━━━━━━━\u001b[0m\u001b[37m\u001b[0m \u001b[1m6s\u001b[0m 145ms/step - acc: 0.4354 - loss: 1.4996 - mse: 0.0980 - val_acc: 0.4689 - val_loss: 1.4440 - val_mse: 0.0942\n",
            "Epoch 20/400\n",
            "\u001b[1m31/31\u001b[0m \u001b[32m━━━━━━━━━━━━━━━━━━━━\u001b[0m\u001b[37m\u001b[0m \u001b[1m4s\u001b[0m 95ms/step - acc: 0.4586 - loss: 1.4634 - mse: 0.0957 - val_acc: 0.5031 - val_loss: 1.4691 - val_mse: 0.0962\n",
            "Epoch 21/400\n",
            "\u001b[1m31/31\u001b[0m \u001b[32m━━━━━━━━━━━━━━━━━━━━\u001b[0m\u001b[37m\u001b[0m \u001b[1m5s\u001b[0m 96ms/step - acc: 0.4744 - loss: 1.4768 - mse: 0.0965 - val_acc: 0.5031 - val_loss: 1.4473 - val_mse: 0.0949\n",
            "Epoch 22/400\n",
            "\u001b[1m31/31\u001b[0m \u001b[32m━━━━━━━━━━━━━━━━━━━━\u001b[0m\u001b[37m\u001b[0m \u001b[1m7s\u001b[0m 142ms/step - acc: 0.4695 - loss: 1.4616 - mse: 0.0959 - val_acc: 0.5000 - val_loss: 1.4210 - val_mse: 0.0928\n",
            "Epoch 23/400\n",
            "\u001b[1m31/31\u001b[0m \u001b[32m━━━━━━━━━━━━━━━━━━━━\u001b[0m\u001b[37m\u001b[0m \u001b[1m4s\u001b[0m 104ms/step - acc: 0.4742 - loss: 1.4564 - mse: 0.0953 - val_acc: 0.4845 - val_loss: 1.4109 - val_mse: 0.0924\n",
            "Epoch 24/400\n",
            "\u001b[1m31/31\u001b[0m \u001b[32m━━━━━━━━━━━━━━━━━━━━\u001b[0m\u001b[37m\u001b[0m \u001b[1m5s\u001b[0m 103ms/step - acc: 0.4740 - loss: 1.4356 - mse: 0.0939 - val_acc: 0.4969 - val_loss: 1.4146 - val_mse: 0.0927\n",
            "Epoch 25/400\n",
            "\u001b[1m31/31\u001b[0m \u001b[32m━━━━━━━━━━━━━━━━━━━━\u001b[0m\u001b[37m\u001b[0m \u001b[1m5s\u001b[0m 113ms/step - acc: 0.4369 - loss: 1.4929 - mse: 0.0981 - val_acc: 0.4720 - val_loss: 1.3994 - val_mse: 0.0919\n",
            "Epoch 26/400\n",
            "\u001b[1m31/31\u001b[0m \u001b[32m━━━━━━━━━━━━━━━━━━━━\u001b[0m\u001b[37m\u001b[0m \u001b[1m5s\u001b[0m 104ms/step - acc: 0.4705 - loss: 1.4107 - mse: 0.0929 - val_acc: 0.5217 - val_loss: 1.4031 - val_mse: 0.0920\n",
            "Epoch 27/400\n",
            "\u001b[1m31/31\u001b[0m \u001b[32m━━━━━━━━━━━━━━━━━━━━\u001b[0m\u001b[37m\u001b[0m \u001b[1m6s\u001b[0m 144ms/step - acc: 0.4630 - loss: 1.4410 - mse: 0.0947 - val_acc: 0.4627 - val_loss: 1.4012 - val_mse: 0.0926\n",
            "Epoch 28/400\n",
            "\u001b[1m31/31\u001b[0m \u001b[32m━━━━━━━━━━━━━━━━━━━━\u001b[0m\u001b[37m\u001b[0m \u001b[1m4s\u001b[0m 101ms/step - acc: 0.4578 - loss: 1.4399 - mse: 0.0945 - val_acc: 0.5186 - val_loss: 1.3875 - val_mse: 0.0909\n",
            "Epoch 29/400\n",
            "\u001b[1m31/31\u001b[0m \u001b[32m━━━━━━━━━━━━━━━━━━━━\u001b[0m\u001b[37m\u001b[0m \u001b[1m5s\u001b[0m 109ms/step - acc: 0.4972 - loss: 1.3728 - mse: 0.0905 - val_acc: 0.5280 - val_loss: 1.4060 - val_mse: 0.0924\n",
            "Epoch 30/400\n",
            "\u001b[1m31/31\u001b[0m \u001b[32m━━━━━━━━━━━━━━━━━━━━\u001b[0m\u001b[37m\u001b[0m \u001b[1m6s\u001b[0m 127ms/step - acc: 0.4917 - loss: 1.3793 - mse: 0.0909 - val_acc: 0.5776 - val_loss: 1.4170 - val_mse: 0.0935\n",
            "Epoch 31/400\n",
            "\u001b[1m31/31\u001b[0m \u001b[32m━━━━━━━━━━━━━━━━━━━━\u001b[0m\u001b[37m\u001b[0m \u001b[1m4s\u001b[0m 107ms/step - acc: 0.4856 - loss: 1.4163 - mse: 0.0931 - val_acc: 0.5031 - val_loss: 1.3528 - val_mse: 0.0887\n",
            "Epoch 32/400\n",
            "\u001b[1m31/31\u001b[0m \u001b[32m━━━━━━━━━━━━━━━━━━━━\u001b[0m\u001b[37m\u001b[0m \u001b[1m5s\u001b[0m 116ms/step - acc: 0.4837 - loss: 1.4088 - mse: 0.0924 - val_acc: 0.5124 - val_loss: 1.3459 - val_mse: 0.0883\n",
            "Epoch 33/400\n",
            "\u001b[1m31/31\u001b[0m \u001b[32m━━━━━━━━━━━━━━━━━━━━\u001b[0m\u001b[37m\u001b[0m \u001b[1m5s\u001b[0m 109ms/step - acc: 0.4792 - loss: 1.3855 - mse: 0.0916 - val_acc: 0.5124 - val_loss: 1.3366 - val_mse: 0.0878\n",
            "Epoch 34/400\n",
            "\u001b[1m31/31\u001b[0m \u001b[32m━━━━━━━━━━━━━━━━━━━━\u001b[0m\u001b[37m\u001b[0m \u001b[1m5s\u001b[0m 100ms/step - acc: 0.4965 - loss: 1.3721 - mse: 0.0902 - val_acc: 0.5155 - val_loss: 1.3310 - val_mse: 0.0875\n",
            "Epoch 35/400\n",
            "\u001b[1m31/31\u001b[0m \u001b[32m━━━━━━━━━━━━━━━━━━━━\u001b[0m\u001b[37m\u001b[0m \u001b[1m6s\u001b[0m 135ms/step - acc: 0.5014 - loss: 1.3594 - mse: 0.0899 - val_acc: 0.5311 - val_loss: 1.3340 - val_mse: 0.0876\n",
            "Epoch 36/400\n",
            "\u001b[1m31/31\u001b[0m \u001b[32m━━━━━━━━━━━━━━━━━━━━\u001b[0m\u001b[37m\u001b[0m \u001b[1m4s\u001b[0m 99ms/step - acc: 0.4994 - loss: 1.3657 - mse: 0.0899 - val_acc: 0.5248 - val_loss: 1.3190 - val_mse: 0.0867\n",
            "Epoch 37/400\n",
            "\u001b[1m31/31\u001b[0m \u001b[32m━━━━━━━━━━━━━━━━━━━━\u001b[0m\u001b[37m\u001b[0m \u001b[1m5s\u001b[0m 108ms/step - acc: 0.4845 - loss: 1.3627 - mse: 0.0900 - val_acc: 0.4876 - val_loss: 1.3144 - val_mse: 0.0868\n",
            "Epoch 38/400\n",
            "\u001b[1m31/31\u001b[0m \u001b[32m━━━━━━━━━━━━━━━━━━━━\u001b[0m\u001b[37m\u001b[0m \u001b[1m6s\u001b[0m 125ms/step - acc: 0.4954 - loss: 1.3243 - mse: 0.0881 - val_acc: 0.5745 - val_loss: 1.3418 - val_mse: 0.0886\n",
            "Epoch 39/400\n",
            "\u001b[1m31/31\u001b[0m \u001b[32m━━━━━━━━━━━━━━━━━━━━\u001b[0m\u001b[37m\u001b[0m \u001b[1m4s\u001b[0m 103ms/step - acc: 0.5186 - loss: 1.3572 - mse: 0.0895 - val_acc: 0.5311 - val_loss: 1.2987 - val_mse: 0.0855\n",
            "Epoch 40/400\n",
            "\u001b[1m31/31\u001b[0m \u001b[32m━━━━━━━━━━━━━━━━━━━━\u001b[0m\u001b[37m\u001b[0m \u001b[1m5s\u001b[0m 115ms/step - acc: 0.4940 - loss: 1.3414 - mse: 0.0883 - val_acc: 0.5373 - val_loss: 1.2993 - val_mse: 0.0856\n",
            "Epoch 41/400\n",
            "\u001b[1m31/31\u001b[0m \u001b[32m━━━━━━━━━━━━━━━━━━━━\u001b[0m\u001b[37m\u001b[0m \u001b[1m5s\u001b[0m 99ms/step - acc: 0.5296 - loss: 1.3071 - mse: 0.0861 - val_acc: 0.5776 - val_loss: 1.2997 - val_mse: 0.0856\n",
            "Epoch 42/400\n",
            "\u001b[1m31/31\u001b[0m \u001b[32m━━━━━━━━━━━━━━━━━━━━\u001b[0m\u001b[37m\u001b[0m \u001b[1m5s\u001b[0m 95ms/step - acc: 0.5085 - loss: 1.3254 - mse: 0.0876 - val_acc: 0.5497 - val_loss: 1.2903 - val_mse: 0.0851\n",
            "Epoch 43/400\n",
            "\u001b[1m31/31\u001b[0m \u001b[32m━━━━━━━━━━━━━━━━━━━━\u001b[0m\u001b[37m\u001b[0m \u001b[1m6s\u001b[0m 131ms/step - acc: 0.5333 - loss: 1.3135 - mse: 0.0869 - val_acc: 0.5559 - val_loss: 1.2849 - val_mse: 0.0846\n",
            "Epoch 44/400\n",
            "\u001b[1m31/31\u001b[0m \u001b[32m━━━━━━━━━━━━━━━━━━━━\u001b[0m\u001b[37m\u001b[0m \u001b[1m3s\u001b[0m 104ms/step - acc: 0.5060 - loss: 1.3020 - mse: 0.0865 - val_acc: 0.5652 - val_loss: 1.2743 - val_mse: 0.0838\n",
            "Epoch 45/400\n",
            "\u001b[1m31/31\u001b[0m \u001b[32m━━━━━━━━━━━━━━━━━━━━\u001b[0m\u001b[37m\u001b[0m \u001b[1m5s\u001b[0m 98ms/step - acc: 0.5054 - loss: 1.3292 - mse: 0.0881 - val_acc: 0.5559 - val_loss: 1.2641 - val_mse: 0.0833\n",
            "Epoch 46/400\n",
            "\u001b[1m31/31\u001b[0m \u001b[32m━━━━━━━━━━━━━━━━━━━━\u001b[0m\u001b[37m\u001b[0m \u001b[1m6s\u001b[0m 124ms/step - acc: 0.5215 - loss: 1.2990 - mse: 0.0861 - val_acc: 0.5621 - val_loss: 1.2593 - val_mse: 0.0831\n",
            "Epoch 47/400\n",
            "\u001b[1m31/31\u001b[0m \u001b[32m━━━━━━━━━━━━━━━━━━━━\u001b[0m\u001b[37m\u001b[0m \u001b[1m3s\u001b[0m 100ms/step - acc: 0.5015 - loss: 1.3214 - mse: 0.0880 - val_acc: 0.5652 - val_loss: 1.2508 - val_mse: 0.0827\n",
            "Epoch 48/400\n",
            "\u001b[1m31/31\u001b[0m \u001b[32m━━━━━━━━━━━━━━━━━━━━\u001b[0m\u001b[37m\u001b[0m \u001b[1m5s\u001b[0m 103ms/step - acc: 0.5410 - loss: 1.2674 - mse: 0.0842 - val_acc: 0.5559 - val_loss: 1.2454 - val_mse: 0.0822\n",
            "Epoch 49/400\n",
            "\u001b[1m31/31\u001b[0m \u001b[32m━━━━━━━━━━━━━━━━━━━━\u001b[0m\u001b[37m\u001b[0m \u001b[1m5s\u001b[0m 103ms/step - acc: 0.5317 - loss: 1.2783 - mse: 0.0846 - val_acc: 0.5590 - val_loss: 1.2374 - val_mse: 0.0818\n",
            "Epoch 50/400\n",
            "\u001b[1m31/31\u001b[0m \u001b[32m━━━━━━━━━━━━━━━━━━━━\u001b[0m\u001b[37m\u001b[0m \u001b[1m3s\u001b[0m 101ms/step - acc: 0.5361 - loss: 1.2510 - mse: 0.0831 - val_acc: 0.5932 - val_loss: 1.2513 - val_mse: 0.0828\n",
            "Epoch 51/400\n",
            "\u001b[1m31/31\u001b[0m \u001b[32m━━━━━━━━━━━━━━━━━━━━\u001b[0m\u001b[37m\u001b[0m \u001b[1m6s\u001b[0m 128ms/step - acc: 0.5564 - loss: 1.2477 - mse: 0.0827 - val_acc: 0.6149 - val_loss: 1.2431 - val_mse: 0.0822\n",
            "Epoch 52/400\n",
            "\u001b[1m31/31\u001b[0m \u001b[32m━━━━━━━━━━━━━━━━━━━━\u001b[0m\u001b[37m\u001b[0m \u001b[1m4s\u001b[0m 101ms/step - acc: 0.5424 - loss: 1.2514 - mse: 0.0835 - val_acc: 0.5901 - val_loss: 1.2296 - val_mse: 0.0811\n",
            "Epoch 53/400\n",
            "\u001b[1m31/31\u001b[0m \u001b[32m━━━━━━━━━━━━━━━━━━━━\u001b[0m\u001b[37m\u001b[0m \u001b[1m5s\u001b[0m 102ms/step - acc: 0.5336 - loss: 1.2354 - mse: 0.0821 - val_acc: 0.6025 - val_loss: 1.2246 - val_mse: 0.0810\n",
            "Epoch 54/400\n",
            "\u001b[1m31/31\u001b[0m \u001b[32m━━━━━━━━━━━━━━━━━━━━\u001b[0m\u001b[37m\u001b[0m \u001b[1m6s\u001b[0m 125ms/step - acc: 0.5406 - loss: 1.2517 - mse: 0.0833 - val_acc: 0.5621 - val_loss: 1.2265 - val_mse: 0.0813\n",
            "Epoch 55/400\n",
            "\u001b[1m31/31\u001b[0m \u001b[32m━━━━━━━━━━━━━━━━━━━━\u001b[0m\u001b[37m\u001b[0m \u001b[1m3s\u001b[0m 105ms/step - acc: 0.5414 - loss: 1.2519 - mse: 0.0833 - val_acc: 0.5901 - val_loss: 1.2179 - val_mse: 0.0804\n",
            "Epoch 56/400\n",
            "\u001b[1m31/31\u001b[0m \u001b[32m━━━━━━━━━━━━━━━━━━━━\u001b[0m\u001b[37m\u001b[0m \u001b[1m3s\u001b[0m 99ms/step - acc: 0.5412 - loss: 1.2459 - mse: 0.0830 - val_acc: 0.5807 - val_loss: 1.2001 - val_mse: 0.0794\n",
            "Epoch 57/400\n",
            "\u001b[1m31/31\u001b[0m \u001b[32m━━━━━━━━━━━━━━━━━━━━\u001b[0m\u001b[37m\u001b[0m \u001b[1m3s\u001b[0m 109ms/step - acc: 0.5473 - loss: 1.2247 - mse: 0.0814 - val_acc: 0.5652 - val_loss: 1.1953 - val_mse: 0.0795\n",
            "Epoch 58/400\n",
            "\u001b[1m31/31\u001b[0m \u001b[32m━━━━━━━━━━━━━━━━━━━━\u001b[0m\u001b[37m\u001b[0m \u001b[1m5s\u001b[0m 145ms/step - acc: 0.5600 - loss: 1.2145 - mse: 0.0810 - val_acc: 0.5559 - val_loss: 1.1909 - val_mse: 0.0794\n",
            "Epoch 59/400\n",
            "\u001b[1m31/31\u001b[0m \u001b[32m━━━━━━━━━━━━━━━━━━━━\u001b[0m\u001b[37m\u001b[0m \u001b[1m4s\u001b[0m 108ms/step - acc: 0.5876 - loss: 1.1968 - mse: 0.0798 - val_acc: 0.5745 - val_loss: 1.1819 - val_mse: 0.0786\n",
            "Epoch 60/400\n",
            "\u001b[1m31/31\u001b[0m \u001b[32m━━━━━━━━━━━━━━━━━━━━\u001b[0m\u001b[37m\u001b[0m \u001b[1m5s\u001b[0m 96ms/step - acc: 0.5592 - loss: 1.1974 - mse: 0.0800 - val_acc: 0.5776 - val_loss: 1.1824 - val_mse: 0.0785\n",
            "Epoch 61/400\n",
            "\u001b[1m31/31\u001b[0m \u001b[32m━━━━━━━━━━━━━━━━━━━━\u001b[0m\u001b[37m\u001b[0m \u001b[1m6s\u001b[0m 126ms/step - acc: 0.5669 - loss: 1.1938 - mse: 0.0797 - val_acc: 0.5745 - val_loss: 1.1744 - val_mse: 0.0783\n",
            "Epoch 62/400\n",
            "\u001b[1m31/31\u001b[0m \u001b[32m━━━━━━━━━━━━━━━━━━━━\u001b[0m\u001b[37m\u001b[0m \u001b[1m3s\u001b[0m 101ms/step - acc: 0.5409 - loss: 1.2143 - mse: 0.0812 - val_acc: 0.6087 - val_loss: 1.1701 - val_mse: 0.0777\n",
            "Epoch 63/400\n",
            "\u001b[1m31/31\u001b[0m \u001b[32m━━━━━━━━━━━━━━━━━━━━\u001b[0m\u001b[37m\u001b[0m \u001b[1m5s\u001b[0m 100ms/step - acc: 0.5758 - loss: 1.1967 - mse: 0.0797 - val_acc: 0.6056 - val_loss: 1.1617 - val_mse: 0.0774\n",
            "Epoch 64/400\n",
            "\u001b[1m31/31\u001b[0m \u001b[32m━━━━━━━━━━━━━━━━━━━━\u001b[0m\u001b[37m\u001b[0m \u001b[1m6s\u001b[0m 131ms/step - acc: 0.5887 - loss: 1.1611 - mse: 0.0776 - val_acc: 0.5963 - val_loss: 1.1612 - val_mse: 0.0775\n",
            "Epoch 65/400\n",
            "\u001b[1m31/31\u001b[0m \u001b[32m━━━━━━━━━━━━━━━━━━━━\u001b[0m\u001b[37m\u001b[0m \u001b[1m3s\u001b[0m 104ms/step - acc: 0.6053 - loss: 1.1567 - mse: 0.0772 - val_acc: 0.6366 - val_loss: 1.1709 - val_mse: 0.0777\n",
            "Epoch 66/400\n",
            "\u001b[1m31/31\u001b[0m \u001b[32m━━━━━━━━━━━━━━━━━━━━\u001b[0m\u001b[37m\u001b[0m \u001b[1m5s\u001b[0m 108ms/step - acc: 0.6104 - loss: 1.1612 - mse: 0.0778 - val_acc: 0.5901 - val_loss: 1.1469 - val_mse: 0.0766\n",
            "Epoch 67/400\n",
            "\u001b[1m31/31\u001b[0m \u001b[32m━━━━━━━━━━━━━━━━━━━━\u001b[0m\u001b[37m\u001b[0m \u001b[1m5s\u001b[0m 116ms/step - acc: 0.5887 - loss: 1.1598 - mse: 0.0777 - val_acc: 0.6180 - val_loss: 1.1461 - val_mse: 0.0762\n",
            "Epoch 68/400\n",
            "\u001b[1m31/31\u001b[0m \u001b[32m━━━━━━━━━━━━━━━━━━━━\u001b[0m\u001b[37m\u001b[0m \u001b[1m4s\u001b[0m 95ms/step - acc: 0.5836 - loss: 1.1839 - mse: 0.0793 - val_acc: 0.6273 - val_loss: 1.1429 - val_mse: 0.0759\n",
            "Epoch 69/400\n",
            "\u001b[1m31/31\u001b[0m \u001b[32m━━━━━━━━━━━━━━━━━━━━\u001b[0m\u001b[37m\u001b[0m \u001b[1m6s\u001b[0m 115ms/step - acc: 0.5957 - loss: 1.1450 - mse: 0.0768 - val_acc: 0.6522 - val_loss: 1.1433 - val_mse: 0.0761\n",
            "Epoch 70/400\n",
            "\u001b[1m31/31\u001b[0m \u001b[32m━━━━━━━━━━━━━━━━━━━━\u001b[0m\u001b[37m\u001b[0m \u001b[1m5s\u001b[0m 97ms/step - acc: 0.6228 - loss: 1.1466 - mse: 0.0767 - val_acc: 0.6118 - val_loss: 1.1320 - val_mse: 0.0755\n",
            "Epoch 71/400\n",
            "\u001b[1m31/31\u001b[0m \u001b[32m━━━━━━━━━━━━━━━━━━━━\u001b[0m\u001b[37m\u001b[0m \u001b[1m5s\u001b[0m 106ms/step - acc: 0.6083 - loss: 1.1162 - mse: 0.0746 - val_acc: 0.5621 - val_loss: 1.1323 - val_mse: 0.0768\n",
            "Epoch 72/400\n",
            "\u001b[1m31/31\u001b[0m \u001b[32m━━━━━━━━━━━━━━━━━━━━\u001b[0m\u001b[37m\u001b[0m \u001b[1m4s\u001b[0m 136ms/step - acc: 0.6243 - loss: 1.1068 - mse: 0.0744 - val_acc: 0.6304 - val_loss: 1.1251 - val_mse: 0.0750\n",
            "Epoch 73/400\n",
            "\u001b[1m31/31\u001b[0m \u001b[32m━━━━━━━━━━━━━━━━━━━━\u001b[0m\u001b[37m\u001b[0m \u001b[1m4s\u001b[0m 102ms/step - acc: 0.6252 - loss: 1.1038 - mse: 0.0740 - val_acc: 0.6366 - val_loss: 1.1196 - val_mse: 0.0746\n",
            "Epoch 74/400\n",
            "\u001b[1m31/31\u001b[0m \u001b[32m━━━━━━━━━━━━━━━━━━━━\u001b[0m\u001b[37m\u001b[0m \u001b[1m3s\u001b[0m 101ms/step - acc: 0.5877 - loss: 1.1377 - mse: 0.0763 - val_acc: 0.6242 - val_loss: 1.1077 - val_mse: 0.0740\n",
            "Epoch 75/400\n",
            "\u001b[1m31/31\u001b[0m \u001b[32m━━━━━━━━━━━━━━━━━━━━\u001b[0m\u001b[37m\u001b[0m \u001b[1m6s\u001b[0m 131ms/step - acc: 0.5949 - loss: 1.1442 - mse: 0.0771 - val_acc: 0.6180 - val_loss: 1.1053 - val_mse: 0.0739\n",
            "Epoch 76/400\n",
            "\u001b[1m31/31\u001b[0m \u001b[32m━━━━━━━━━━━━━━━━━━━━\u001b[0m\u001b[37m\u001b[0m \u001b[1m4s\u001b[0m 105ms/step - acc: 0.6182 - loss: 1.1130 - mse: 0.0748 - val_acc: 0.5870 - val_loss: 1.1017 - val_mse: 0.0742\n",
            "Epoch 77/400\n",
            "\u001b[1m31/31\u001b[0m \u001b[32m━━━━━━━━━━━━━━━━━━━━\u001b[0m\u001b[37m\u001b[0m \u001b[1m5s\u001b[0m 102ms/step - acc: 0.6223 - loss: 1.1026 - mse: 0.0740 - val_acc: 0.6522 - val_loss: 1.1093 - val_mse: 0.0739\n",
            "Epoch 78/400\n",
            "\u001b[1m31/31\u001b[0m \u001b[32m━━━━━━━━━━━━━━━━━━━━\u001b[0m\u001b[37m\u001b[0m \u001b[1m6s\u001b[0m 131ms/step - acc: 0.6002 - loss: 1.1263 - mse: 0.0759 - val_acc: 0.6460 - val_loss: 1.1008 - val_mse: 0.0732\n",
            "Epoch 79/400\n",
            "\u001b[1m31/31\u001b[0m \u001b[32m━━━━━━━━━━━━━━━━━━━━\u001b[0m\u001b[37m\u001b[0m \u001b[1m3s\u001b[0m 98ms/step - acc: 0.6327 - loss: 1.1019 - mse: 0.0737 - val_acc: 0.6056 - val_loss: 1.0873 - val_mse: 0.0732\n",
            "Epoch 80/400\n",
            "\u001b[1m31/31\u001b[0m \u001b[32m━━━━━━━━━━━━━━━━━━━━\u001b[0m\u001b[37m\u001b[0m \u001b[1m5s\u001b[0m 98ms/step - acc: 0.6169 - loss: 1.0783 - mse: 0.0726 - val_acc: 0.6553 - val_loss: 1.0967 - val_mse: 0.0728\n",
            "Epoch 81/400\n",
            "\u001b[1m31/31\u001b[0m \u001b[32m━━━━━━━━━━━━━━━━━━━━\u001b[0m\u001b[37m\u001b[0m \u001b[1m4s\u001b[0m 138ms/step - acc: 0.6463 - loss: 1.0402 - mse: 0.0697 - val_acc: 0.6739 - val_loss: 1.1069 - val_mse: 0.0735\n",
            "Epoch 82/400\n",
            "\u001b[1m31/31\u001b[0m \u001b[32m━━━━━━━━━━━━━━━━━━━━\u001b[0m\u001b[37m\u001b[0m \u001b[1m4s\u001b[0m 110ms/step - acc: 0.6459 - loss: 1.0674 - mse: 0.0717 - val_acc: 0.5994 - val_loss: 1.0752 - val_mse: 0.0730\n",
            "Epoch 83/400\n",
            "\u001b[1m31/31\u001b[0m \u001b[32m━━━━━━━━━━━━━━━━━━━━\u001b[0m\u001b[37m\u001b[0m \u001b[1m5s\u001b[0m 103ms/step - acc: 0.6220 - loss: 1.0620 - mse: 0.0718 - val_acc: 0.6180 - val_loss: 1.0679 - val_mse: 0.0721\n",
            "Epoch 84/400\n",
            "\u001b[1m31/31\u001b[0m \u001b[32m━━━━━━━━━━━━━━━━━━━━\u001b[0m\u001b[37m\u001b[0m \u001b[1m4s\u001b[0m 127ms/step - acc: 0.6305 - loss: 1.0519 - mse: 0.0709 - val_acc: 0.6677 - val_loss: 1.0681 - val_mse: 0.0713\n",
            "Epoch 85/400\n",
            "\u001b[1m31/31\u001b[0m \u001b[32m━━━━━━━━━━━━━━━━━━━━\u001b[0m\u001b[37m\u001b[0m \u001b[1m4s\u001b[0m 92ms/step - acc: 0.6644 - loss: 1.0506 - mse: 0.0708 - val_acc: 0.6615 - val_loss: 1.0698 - val_mse: 0.0716\n",
            "Epoch 86/400\n",
            "\u001b[1m31/31\u001b[0m \u001b[32m━━━━━━━━━━━━━━━━━━━━\u001b[0m\u001b[37m\u001b[0m \u001b[1m5s\u001b[0m 94ms/step - acc: 0.6349 - loss: 1.0732 - mse: 0.0725 - val_acc: 0.6553 - val_loss: 1.0550 - val_mse: 0.0707\n",
            "Epoch 87/400\n",
            "\u001b[1m31/31\u001b[0m \u001b[32m━━━━━━━━━━━━━━━━━━━━\u001b[0m\u001b[37m\u001b[0m \u001b[1m6s\u001b[0m 137ms/step - acc: 0.6307 - loss: 1.0595 - mse: 0.0718 - val_acc: 0.6584 - val_loss: 1.0533 - val_mse: 0.0705\n",
            "Epoch 88/400\n",
            "\u001b[1m31/31\u001b[0m \u001b[32m━━━━━━━━━━━━━━━━━━━━\u001b[0m\u001b[37m\u001b[0m \u001b[1m4s\u001b[0m 105ms/step - acc: 0.6538 - loss: 1.0263 - mse: 0.0689 - val_acc: 0.6615 - val_loss: 1.0500 - val_mse: 0.0706\n",
            "Epoch 89/400\n",
            "\u001b[1m31/31\u001b[0m \u001b[32m━━━━━━━━━━━━━━━━━━━━\u001b[0m\u001b[37m\u001b[0m \u001b[1m5s\u001b[0m 91ms/step - acc: 0.6292 - loss: 1.0738 - mse: 0.0722 - val_acc: 0.6522 - val_loss: 1.0464 - val_mse: 0.0702\n",
            "Epoch 90/400\n",
            "\u001b[1m31/31\u001b[0m \u001b[32m━━━━━━━━━━━━━━━━━━━━\u001b[0m\u001b[37m\u001b[0m \u001b[1m4s\u001b[0m 124ms/step - acc: 0.6485 - loss: 1.0260 - mse: 0.0691 - val_acc: 0.6615 - val_loss: 1.0495 - val_mse: 0.0700\n",
            "Epoch 91/400\n",
            "\u001b[1m31/31\u001b[0m \u001b[32m━━━━━━━━━━━━━━━━━━━━\u001b[0m\u001b[37m\u001b[0m \u001b[1m5s\u001b[0m 108ms/step - acc: 0.6544 - loss: 1.0253 - mse: 0.0689 - val_acc: 0.6615 - val_loss: 1.0598 - val_mse: 0.0706\n",
            "Epoch 92/400\n",
            "\u001b[1m31/31\u001b[0m \u001b[32m━━━━━━━━━━━━━━━━━━━━\u001b[0m\u001b[37m\u001b[0m \u001b[1m3s\u001b[0m 104ms/step - acc: 0.6614 - loss: 1.0299 - mse: 0.0691 - val_acc: 0.6615 - val_loss: 1.0369 - val_mse: 0.0696\n",
            "Epoch 93/400\n",
            "\u001b[1m31/31\u001b[0m \u001b[32m━━━━━━━━━━━━━━━━━━━━\u001b[0m\u001b[37m\u001b[0m \u001b[1m7s\u001b[0m 154ms/step - acc: 0.6775 - loss: 1.0297 - mse: 0.0694 - val_acc: 0.6677 - val_loss: 1.0325 - val_mse: 0.0690\n",
            "Epoch 94/400\n",
            "\u001b[1m31/31\u001b[0m \u001b[32m━━━━━━━━━━━━━━━━━━━━\u001b[0m\u001b[37m\u001b[0m \u001b[1m3s\u001b[0m 99ms/step - acc: 0.6908 - loss: 0.9904 - mse: 0.0664 - val_acc: 0.6677 - val_loss: 1.0281 - val_mse: 0.0688\n",
            "Epoch 95/400\n",
            "\u001b[1m31/31\u001b[0m \u001b[32m━━━━━━━━━━━━━━━━━━━━\u001b[0m\u001b[37m\u001b[0m \u001b[1m5s\u001b[0m 101ms/step - acc: 0.6808 - loss: 1.0217 - mse: 0.0688 - val_acc: 0.6553 - val_loss: 1.0241 - val_mse: 0.0694\n",
            "Epoch 96/400\n",
            "\u001b[1m31/31\u001b[0m \u001b[32m━━━━━━━━━━━━━━━━━━━━\u001b[0m\u001b[37m\u001b[0m \u001b[1m6s\u001b[0m 136ms/step - acc: 0.6519 - loss: 1.0194 - mse: 0.0687 - val_acc: 0.6615 - val_loss: 1.0205 - val_mse: 0.0688\n",
            "Epoch 97/400\n",
            "\u001b[1m31/31\u001b[0m \u001b[32m━━━━━━━━━━━━━━━━━━━━\u001b[0m\u001b[37m\u001b[0m \u001b[1m4s\u001b[0m 105ms/step - acc: 0.6479 - loss: 1.0300 - mse: 0.0699 - val_acc: 0.6615 - val_loss: 1.0163 - val_mse: 0.0680\n",
            "Epoch 98/400\n",
            "\u001b[1m31/31\u001b[0m \u001b[32m━━━━━━━━━━━━━━━━━━━━\u001b[0m\u001b[37m\u001b[0m \u001b[1m5s\u001b[0m 103ms/step - acc: 0.6529 - loss: 1.0080 - mse: 0.0681 - val_acc: 0.6522 - val_loss: 1.0215 - val_mse: 0.0690\n",
            "Epoch 99/400\n",
            "\u001b[1m31/31\u001b[0m \u001b[32m━━━━━━━━━━━━━━━━━━━━\u001b[0m\u001b[37m\u001b[0m \u001b[1m5s\u001b[0m 98ms/step - acc: 0.6744 - loss: 1.0074 - mse: 0.0681 - val_acc: 0.6429 - val_loss: 1.0108 - val_mse: 0.0690\n",
            "Epoch 100/400\n",
            "\u001b[1m31/31\u001b[0m \u001b[32m━━━━━━━━━━━━━━━━━━━━\u001b[0m\u001b[37m\u001b[0m \u001b[1m5s\u001b[0m 100ms/step - acc: 0.6622 - loss: 0.9907 - mse: 0.0672 - val_acc: 0.6677 - val_loss: 1.0049 - val_mse: 0.0673\n",
            "Epoch 101/400\n",
            "\u001b[1m31/31\u001b[0m \u001b[32m━━━━━━━━━━━━━━━━━━━━\u001b[0m\u001b[37m\u001b[0m \u001b[1m7s\u001b[0m 148ms/step - acc: 0.6679 - loss: 1.0034 - mse: 0.0674 - val_acc: 0.6801 - val_loss: 1.0021 - val_mse: 0.0670\n",
            "Epoch 102/400\n",
            "\u001b[1m31/31\u001b[0m \u001b[32m━━━━━━━━━━━━━━━━━━━━\u001b[0m\u001b[37m\u001b[0m \u001b[1m4s\u001b[0m 105ms/step - acc: 0.6851 - loss: 0.9925 - mse: 0.0670 - val_acc: 0.6988 - val_loss: 1.0264 - val_mse: 0.0684\n",
            "Epoch 103/400\n",
            "\u001b[1m31/31\u001b[0m \u001b[32m━━━━━━━━━━━━━━━━━━━━\u001b[0m\u001b[37m\u001b[0m \u001b[1m5s\u001b[0m 103ms/step - acc: 0.6897 - loss: 0.9964 - mse: 0.0671 - val_acc: 0.6832 - val_loss: 0.9981 - val_mse: 0.0668\n",
            "Epoch 104/400\n",
            "\u001b[1m31/31\u001b[0m \u001b[32m━━━━━━━━━━━━━━━━━━━━\u001b[0m\u001b[37m\u001b[0m \u001b[1m6s\u001b[0m 128ms/step - acc: 0.6645 - loss: 0.9876 - mse: 0.0668 - val_acc: 0.6863 - val_loss: 0.9946 - val_mse: 0.0665\n",
            "Epoch 105/400\n",
            "\u001b[1m31/31\u001b[0m \u001b[32m━━━━━━━━━━━━━━━━━━━━\u001b[0m\u001b[37m\u001b[0m \u001b[1m4s\u001b[0m 107ms/step - acc: 0.6866 - loss: 0.9640 - mse: 0.0651 - val_acc: 0.6832 - val_loss: 0.9934 - val_mse: 0.0662\n",
            "Epoch 106/400\n",
            "\u001b[1m31/31\u001b[0m \u001b[32m━━━━━━━━━━━━━━━━━━━━\u001b[0m\u001b[37m\u001b[0m \u001b[1m5s\u001b[0m 113ms/step - acc: 0.6872 - loss: 0.9865 - mse: 0.0668 - val_acc: 0.6739 - val_loss: 0.9809 - val_mse: 0.0659\n",
            "Epoch 107/400\n",
            "\u001b[1m31/31\u001b[0m \u001b[32m━━━━━━━━━━━━━━━━━━━━\u001b[0m\u001b[37m\u001b[0m \u001b[1m5s\u001b[0m 107ms/step - acc: 0.6777 - loss: 0.9849 - mse: 0.0666 - val_acc: 0.6863 - val_loss: 0.9852 - val_mse: 0.0658\n",
            "Epoch 108/400\n",
            "\u001b[1m31/31\u001b[0m \u001b[32m━━━━━━━━━━━━━━━━━━━━\u001b[0m\u001b[37m\u001b[0m \u001b[1m5s\u001b[0m 103ms/step - acc: 0.6843 - loss: 0.9577 - mse: 0.0649 - val_acc: 0.7081 - val_loss: 1.0037 - val_mse: 0.0667\n",
            "Epoch 109/400\n",
            "\u001b[1m31/31\u001b[0m \u001b[32m━━━━━━━━━━━━━━━━━━━━\u001b[0m\u001b[37m\u001b[0m \u001b[1m6s\u001b[0m 131ms/step - acc: 0.6894 - loss: 1.0014 - mse: 0.0677 - val_acc: 0.6646 - val_loss: 0.9728 - val_mse: 0.0660\n",
            "Epoch 110/400\n",
            "\u001b[1m31/31\u001b[0m \u001b[32m━━━━━━━━━━━━━━━━━━━━\u001b[0m\u001b[37m\u001b[0m \u001b[1m4s\u001b[0m 98ms/step - acc: 0.6622 - loss: 0.9573 - mse: 0.0651 - val_acc: 0.6646 - val_loss: 0.9879 - val_mse: 0.0663\n",
            "Epoch 111/400\n",
            "\u001b[1m31/31\u001b[0m \u001b[32m━━━━━━━━━━━━━━━━━━━━\u001b[0m\u001b[37m\u001b[0m \u001b[1m4s\u001b[0m 126ms/step - acc: 0.6813 - loss: 0.9658 - mse: 0.0650 - val_acc: 0.7050 - val_loss: 0.9797 - val_mse: 0.0652\n",
            "Epoch 112/400\n",
            "\u001b[1m31/31\u001b[0m \u001b[32m━━━━━━━━━━━━━━━━━━━━\u001b[0m\u001b[37m\u001b[0m \u001b[1m8s\u001b[0m 215ms/step - acc: 0.7264 - loss: 0.9395 - mse: 0.0635 - val_acc: 0.6770 - val_loss: 0.9648 - val_mse: 0.0648\n",
            "Epoch 113/400\n",
            "\u001b[1m31/31\u001b[0m \u001b[32m━━━━━━━━━━━━━━━━━━━━\u001b[0m\u001b[37m\u001b[0m \u001b[1m3s\u001b[0m 110ms/step - acc: 0.7030 - loss: 0.9493 - mse: 0.0638 - val_acc: 0.6863 - val_loss: 0.9559 - val_mse: 0.0646\n",
            "Epoch 114/400\n",
            "\u001b[1m31/31\u001b[0m \u001b[32m━━━━━━━━━━━━━━━━━━━━\u001b[0m\u001b[37m\u001b[0m \u001b[1m5s\u001b[0m 112ms/step - acc: 0.7136 - loss: 0.9001 - mse: 0.0605 - val_acc: 0.6491 - val_loss: 0.9724 - val_mse: 0.0664\n",
            "Epoch 115/400\n",
            "\u001b[1m31/31\u001b[0m \u001b[32m━━━━━━━━━━━━━━━━━━━━\u001b[0m\u001b[37m\u001b[0m \u001b[1m4s\u001b[0m 126ms/step - acc: 0.6875 - loss: 0.9359 - mse: 0.0635 - val_acc: 0.6708 - val_loss: 0.9515 - val_mse: 0.0646\n",
            "Epoch 116/400\n",
            "\u001b[1m31/31\u001b[0m \u001b[32m━━━━━━━━━━━━━━━━━━━━\u001b[0m\u001b[37m\u001b[0m \u001b[1m4s\u001b[0m 125ms/step - acc: 0.6962 - loss: 0.9259 - mse: 0.0629 - val_acc: 0.7050 - val_loss: 0.9592 - val_mse: 0.0640\n",
            "Epoch 117/400\n",
            "\u001b[1m31/31\u001b[0m \u001b[32m━━━━━━━━━━━━━━━━━━━━\u001b[0m\u001b[37m\u001b[0m \u001b[1m5s\u001b[0m 108ms/step - acc: 0.7086 - loss: 0.9199 - mse: 0.0626 - val_acc: 0.6801 - val_loss: 0.9555 - val_mse: 0.0652\n",
            "Epoch 118/400\n",
            "\u001b[1m31/31\u001b[0m \u001b[32m━━━━━━━━━━━━━━━━━━━━\u001b[0m\u001b[37m\u001b[0m \u001b[1m6s\u001b[0m 127ms/step - acc: 0.6901 - loss: 0.9409 - mse: 0.0640 - val_acc: 0.7112 - val_loss: 0.9570 - val_mse: 0.0638\n",
            "Epoch 119/400\n",
            "\u001b[1m31/31\u001b[0m \u001b[32m━━━━━━━━━━━━━━━━━━━━\u001b[0m\u001b[37m\u001b[0m \u001b[1m4s\u001b[0m 130ms/step - acc: 0.7027 - loss: 0.9362 - mse: 0.0637 - val_acc: 0.7050 - val_loss: 0.9512 - val_mse: 0.0635\n",
            "Epoch 120/400\n",
            "\u001b[1m31/31\u001b[0m \u001b[32m━━━━━━━━━━━━━━━━━━━━\u001b[0m\u001b[37m\u001b[0m \u001b[1m4s\u001b[0m 97ms/step - acc: 0.7045 - loss: 0.9285 - mse: 0.0629 - val_acc: 0.6894 - val_loss: 0.9448 - val_mse: 0.0643\n",
            "Epoch 121/400\n",
            "\u001b[1m31/31\u001b[0m \u001b[32m━━━━━━━━━━━━━━━━━━━━\u001b[0m\u001b[37m\u001b[0m \u001b[1m4s\u001b[0m 118ms/step - acc: 0.7113 - loss: 0.9132 - mse: 0.0620 - val_acc: 0.7267 - val_loss: 0.9337 - val_mse: 0.0624\n",
            "Epoch 122/400\n",
            "\u001b[1m31/31\u001b[0m \u001b[32m━━━━━━━━━━━━━━━━━━━━\u001b[0m\u001b[37m\u001b[0m \u001b[1m6s\u001b[0m 134ms/step - acc: 0.7078 - loss: 0.9008 - mse: 0.0606 - val_acc: 0.7360 - val_loss: 0.9498 - val_mse: 0.0631\n",
            "Epoch 123/400\n",
            "\u001b[1m31/31\u001b[0m \u001b[32m━━━━━━━━━━━━━━━━━━━━\u001b[0m\u001b[37m\u001b[0m \u001b[1m4s\u001b[0m 111ms/step - acc: 0.7266 - loss: 0.8947 - mse: 0.0603 - val_acc: 0.6957 - val_loss: 0.9300 - val_mse: 0.0625\n",
            "Epoch 124/400\n",
            "\u001b[1m31/31\u001b[0m \u001b[32m━━━━━━━━━━━━━━━━━━━━\u001b[0m\u001b[37m\u001b[0m \u001b[1m3s\u001b[0m 106ms/step - acc: 0.7239 - loss: 0.8723 - mse: 0.0588 - val_acc: 0.7329 - val_loss: 0.9551 - val_mse: 0.0635\n",
            "Epoch 125/400\n",
            "\u001b[1m31/31\u001b[0m \u001b[32m━━━━━━━━━━━━━━━━━━━━\u001b[0m\u001b[37m\u001b[0m \u001b[1m6s\u001b[0m 138ms/step - acc: 0.7453 - loss: 0.9067 - mse: 0.0609 - val_acc: 0.6739 - val_loss: 0.9309 - val_mse: 0.0640\n",
            "Epoch 126/400\n",
            "\u001b[1m31/31\u001b[0m \u001b[32m━━━━━━━━━━━━━━━━━━━━\u001b[0m\u001b[37m\u001b[0m \u001b[1m3s\u001b[0m 105ms/step - acc: 0.7340 - loss: 0.8619 - mse: 0.0583 - val_acc: 0.7112 - val_loss: 0.9190 - val_mse: 0.0616\n",
            "Epoch 127/400\n",
            "\u001b[1m31/31\u001b[0m \u001b[32m━━━━━━━━━━━━━━━━━━━━\u001b[0m\u001b[37m\u001b[0m \u001b[1m5s\u001b[0m 99ms/step - acc: 0.7103 - loss: 0.8899 - mse: 0.0599 - val_acc: 0.7143 - val_loss: 0.9148 - val_mse: 0.0612\n",
            "Epoch 128/400\n",
            "\u001b[1m31/31\u001b[0m \u001b[32m━━━━━━━━━━━━━━━━━━━━\u001b[0m\u001b[37m\u001b[0m \u001b[1m5s\u001b[0m 152ms/step - acc: 0.7339 - loss: 0.8767 - mse: 0.0589 - val_acc: 0.7391 - val_loss: 0.9166 - val_mse: 0.0611\n",
            "Epoch 129/400\n",
            "\u001b[1m31/31\u001b[0m \u001b[32m━━━━━━━━━━━━━━━━━━━━\u001b[0m\u001b[37m\u001b[0m \u001b[1m4s\u001b[0m 111ms/step - acc: 0.7197 - loss: 0.8856 - mse: 0.0597 - val_acc: 0.7236 - val_loss: 0.9104 - val_mse: 0.0609\n",
            "Epoch 130/400\n",
            "\u001b[1m31/31\u001b[0m \u001b[32m━━━━━━━━━━━━━━━━━━━━\u001b[0m\u001b[37m\u001b[0m \u001b[1m5s\u001b[0m 110ms/step - acc: 0.7348 - loss: 0.8596 - mse: 0.0580 - val_acc: 0.7081 - val_loss: 0.9043 - val_mse: 0.0606\n",
            "Epoch 131/400\n",
            "\u001b[1m31/31\u001b[0m \u001b[32m━━━━━━━━━━━━━━━━━━━━\u001b[0m\u001b[37m\u001b[0m \u001b[1m4s\u001b[0m 142ms/step - acc: 0.7268 - loss: 0.8513 - mse: 0.0577 - val_acc: 0.7236 - val_loss: 0.9106 - val_mse: 0.0607\n",
            "Epoch 132/400\n",
            "\u001b[1m31/31\u001b[0m \u001b[32m━━━━━━━━━━━━━━━━━━━━\u001b[0m\u001b[37m\u001b[0m \u001b[1m4s\u001b[0m 119ms/step - acc: 0.7555 - loss: 0.8306 - mse: 0.0558 - val_acc: 0.7174 - val_loss: 0.9042 - val_mse: 0.0604\n",
            "Epoch 133/400\n",
            "\u001b[1m31/31\u001b[0m \u001b[32m━━━━━━━━━━━━━━━━━━━━\u001b[0m\u001b[37m\u001b[0m \u001b[1m5s\u001b[0m 111ms/step - acc: 0.7257 - loss: 0.8702 - mse: 0.0589 - val_acc: 0.7174 - val_loss: 0.9057 - val_mse: 0.0609\n",
            "Epoch 134/400\n",
            "\u001b[1m31/31\u001b[0m \u001b[32m━━━━━━━━━━━━━━━━━━━━\u001b[0m\u001b[37m\u001b[0m \u001b[1m3s\u001b[0m 112ms/step - acc: 0.7297 - loss: 0.8560 - mse: 0.0576 - val_acc: 0.7112 - val_loss: 0.9010 - val_mse: 0.0603\n",
            "Epoch 135/400\n",
            "\u001b[1m31/31\u001b[0m \u001b[32m━━━━━━━━━━━━━━━━━━━━\u001b[0m\u001b[37m\u001b[0m \u001b[1m4s\u001b[0m 135ms/step - acc: 0.7209 - loss: 0.8708 - mse: 0.0589 - val_acc: 0.6957 - val_loss: 0.8905 - val_mse: 0.0604\n",
            "Epoch 136/400\n",
            "\u001b[1m31/31\u001b[0m \u001b[32m━━━━━━━━━━━━━━━━━━━━\u001b[0m\u001b[37m\u001b[0m \u001b[1m3s\u001b[0m 106ms/step - acc: 0.7269 - loss: 0.8750 - mse: 0.0595 - val_acc: 0.7236 - val_loss: 0.8938 - val_mse: 0.0597\n",
            "Epoch 137/400\n",
            "\u001b[1m31/31\u001b[0m \u001b[32m━━━━━━━━━━━━━━━━━━━━\u001b[0m\u001b[37m\u001b[0m \u001b[1m3s\u001b[0m 109ms/step - acc: 0.7318 - loss: 0.8639 - mse: 0.0581 - val_acc: 0.7329 - val_loss: 0.8892 - val_mse: 0.0598\n",
            "Epoch 138/400\n",
            "\u001b[1m31/31\u001b[0m \u001b[32m━━━━━━━━━━━━━━━━━━━━\u001b[0m\u001b[37m\u001b[0m \u001b[1m4s\u001b[0m 122ms/step - acc: 0.7447 - loss: 0.8489 - mse: 0.0571 - val_acc: 0.7143 - val_loss: 0.8827 - val_mse: 0.0600\n",
            "Epoch 139/400\n",
            "\u001b[1m31/31\u001b[0m \u001b[32m━━━━━━━━━━━━━━━━━━━━\u001b[0m\u001b[37m\u001b[0m \u001b[1m5s\u001b[0m 145ms/step - acc: 0.7410 - loss: 0.8359 - mse: 0.0566 - val_acc: 0.7236 - val_loss: 0.8774 - val_mse: 0.0587\n",
            "Epoch 140/400\n",
            "\u001b[1m15/31\u001b[0m \u001b[32m━━━━━━━━━\u001b[0m\u001b[37m━━━━━━━━━━━\u001b[0m \u001b[1m1s\u001b[0m 101ms/step - acc: 0.7468 - loss: 0.8218 - mse: 0.0556"
          ]
        }
      ],
      "source": [
        "inicio = time.time()\n",
        "historia = modelo.fit(x_entrenar, y_entrenar, epochs=epochs, batch_size=batch_size, validation_data=(x_test, y_test), shuffle=True, verbose=1)\n",
        "final = time.time()\n",
        "print('\\nTiempo que demoro el entrenamiento: {:.3f} segundos'.format(final-inicio))"
      ]
    },
    {
      "cell_type": "markdown",
      "metadata": {
        "id": "EMj8RTi7zhvL"
      },
      "source": [
        "### PASO 5 - Evaluacion del entrenamiento del modelo"
      ]
    },
    {
      "cell_type": "code",
      "execution_count": null,
      "metadata": {
        "id": "z5nCsd3azhvL"
      },
      "outputs": [],
      "source": [
        "historia.history.keys()"
      ]
    },
    {
      "cell_type": "code",
      "execution_count": null,
      "metadata": {
        "id": "KMfWByEfzhvM"
      },
      "outputs": [],
      "source": [
        "f = plt.figure(figsize=(15,5))\n",
        "\n",
        "plt.subplot(1,3,1)\n",
        "plt.plot(historia.history['mse'], linewidth=3, label='Train MSE')\n",
        "plt.plot(historia.history['val_mse'], linewidth=3, label='Val MSE')\n",
        "plt.xlabel('Epochs')\n",
        "plt.ylabel('MSE')\n",
        "plt.axis([0, 400, 0, 0.2])\n",
        "plt.legend(loc='upper right')\n",
        "\n",
        "plt.subplot(1,3,2)\n",
        "plt.plot(historia.history['acc'], linewidth=3, label='Train Accuracy')\n",
        "plt.plot(historia.history['val_acc'], linewidth=3, label='Val Accuracy')\n",
        "plt.xlabel('Epochs')\n",
        "plt.ylabel('Accuracy')\n",
        "plt.axis([0, 400, 0.1, 1])\n",
        "plt.legend(loc='lower right')\n",
        "\n",
        "plt.subplot(1,3,3)\n",
        "plt.plot(historia.history['loss'], linewidth=3, label='Train loss')\n",
        "plt.plot(historia.history['val_loss'], linewidth=3, label='Val loss')\n",
        "plt.xlabel('Epochs')\n",
        "plt.ylabel('Loss')\n",
        "plt.axis([0, 400, 0, 2])\n",
        "plt.legend(loc='upper right')\n",
        "\n",
        "plt.show()"
      ]
    },
    {
      "cell_type": "markdown",
      "metadata": {
        "id": "U0cXbP1JzhvM"
      },
      "source": [
        "### PASO 6 - Predicciones y evaluacion con Matriz de Confusion"
      ]
    },
    {
      "cell_type": "code",
      "execution_count": null,
      "metadata": {
        "id": "2qZcnqpXzhvM"
      },
      "outputs": [],
      "source": [
        "# Predicciones con la data de testeo\n",
        "y_prediccion = modelo.predict(x_test, verbose=1)\n",
        "modelo.evaluate(x_test, y_test,verbose=1)\n",
        "\n",
        "# Matriz de confusion y grafica\n",
        "y_test_cm = np.argmax(y_test, axis=1)\n",
        "y_prediccion_cm = np.argmax(y_prediccion, axis=1)\n",
        "confm = confusion_matrix(y_test_cm, y_prediccion_cm)\n",
        "print(f\"\\nMatriz de confusion\")\n",
        "print(confm)\n",
        "\n",
        "f = plt.figure(figsize=(10,10))\n",
        "plt.imshow(confm, cmap=\"YlGn\")\n",
        "plt.xticks(np.arange(7), target_names,rotation=90)\n",
        "plt.yticks(np.arange(7), target_names,rotation=0)\n",
        "plt.colorbar()\n",
        "plt.show()\n"
      ]
    },
    {
      "cell_type": "markdown",
      "metadata": {
        "id": "o7R4SwELzhvM"
      },
      "source": [
        "### PASO 7 - Conclusiones\n",
        "\n"
      ]
    }
  ],
  "metadata": {
    "accelerator": "GPU",
    "colab": {
      "gpuType": "T4",
      "provenance": [],
      "toc_visible": true
    },
    "kernelspec": {
      "display_name": "Python 3",
      "name": "python3"
    },
    "language_info": {
      "codemirror_mode": {
        "name": "ipython",
        "version": 3
      },
      "file_extension": ".py",
      "mimetype": "text/x-python",
      "name": "python",
      "nbconvert_exporter": "python",
      "pygments_lexer": "ipython3",
      "version": "3.11.9"
    }
  },
  "nbformat": 4,
  "nbformat_minor": 0
}